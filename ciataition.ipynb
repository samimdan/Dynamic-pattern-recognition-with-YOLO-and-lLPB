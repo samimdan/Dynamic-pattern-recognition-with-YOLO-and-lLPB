{
 "cells": [
  {
   "cell_type": "code",
   "execution_count": 7,
   "metadata": {},
   "outputs": [
    {
     "name": "stdout",
     "output_type": "stream",
     "text": [
      "['A dynamic pattern recognition apperoach bacsed on naural network for stack time-sreies.pdf', 'A novel scheme based on local binary pattern for dynamic.pdf', 'A recursive patterns matching model for the dynamic pattern recognition problem 1.pdf', 'A recursive patterns matching model for the dynamic pattern recognition problem.pdf', 'A recursive patterns matching model for the.pdf', 'A user-knowledge dynamic pattern matching process.pdf', 'Abavisani_Improving_the_Performance_of_Unimodal_Dynamic_Hand-Gesture_Recognition_With_Multimodal_CVPR_2019_paper.pdf', 'Analytical Investigation of Pattern Formation in an M-CNN with.pdf', 'Convolutional Neural Network on Three Orthogonal Planes for.pdf', 'Dynamic evolving spiking neural networks for on-line spatio- and.pdf', 'Dynamic facial exprement recognition based.pdf', 'Dynamic Learning Style Prediction Method Based.pdf', 'Dynamic pattern denoisin gmethod usingmulti-basin system with kernels.pdf']\n",
      "1. A dynamic pattern recognition apperoach bacsed on naural network for stack time-sreies.pdf\n",
      "2. A novel scheme based on local binary pattern for dynamic.pdf\n",
      "3. A recursive patterns matching model for the dynamic pattern recognition problem 1.pdf\n",
      "4. A recursive patterns matching model for the dynamic pattern recognition problem.pdf\n",
      "5. A recursive patterns matching model for the.pdf\n",
      "6. A user-knowledge dynamic pattern matching process.pdf\n",
      "7. Abavisani_Improving_the_Performance_of_Unimodal_Dynamic_Hand-Gesture_Recognition_With_Multimodal_CVPR_2019_paper.pdf\n",
      "8. Analytical Investigation of Pattern Formation in an M-CNN with.pdf\n",
      "9. Convolutional Neural Network on Three Orthogonal Planes for.pdf\n",
      "10. Dynamic evolving spiking neural networks for on-line spatio- and.pdf\n",
      "11. Dynamic facial exprement recognition based.pdf\n",
      "12. Dynamic Learning Style Prediction Method Based.pdf\n",
      "13. Dynamic pattern denoisin gmethod usingmulti-basin system with kernels.pdf\n"
     ]
    }
   ],
   "source": [
    "\n",
    "import os\n",
    "\n",
    "file_names = os.listdir('train4/pdf/paper')\n",
    "print(file_names)\n",
    "citations = [f\"{i+1}. {name}\" for i, name in enumerate(file_names)]\n",
    "for citation in citations:\n",
    "    print(citation)\n",
    "#create pdf of citations\n",
    "with open('citations.txt', 'w') as f:\n",
    "    for citation in citations:\n",
    "        f.write(citation + '\\n')"
   ]
  }
 ],
 "metadata": {
  "kernelspec": {
   "display_name": "base",
   "language": "python",
   "name": "python3"
  },
  "language_info": {
   "codemirror_mode": {
    "name": "ipython",
    "version": 3
   },
   "file_extension": ".py",
   "mimetype": "text/x-python",
   "name": "python",
   "nbconvert_exporter": "python",
   "pygments_lexer": "ipython3",
   "version": "3.12.7"
  }
 },
 "nbformat": 4,
 "nbformat_minor": 2
}
